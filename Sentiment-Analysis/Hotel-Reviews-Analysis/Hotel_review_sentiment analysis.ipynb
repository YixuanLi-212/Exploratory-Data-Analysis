{
 "cells": [
  {
   "cell_type": "markdown",
   "metadata": {},
   "source": [
    "## Hotel Reviews - Sentiment Analysis"
   ]
  },
  {
   "cell_type": "code",
   "execution_count": 1,
   "metadata": {},
   "outputs": [],
   "source": [
    "## Import all packages\n",
    "import pandas as pd\n",
    "import numpy as np"
   ]
  },
  {
   "cell_type": "code",
   "execution_count": 2,
   "metadata": {},
   "outputs": [
    {
     "name": "stdout",
     "output_type": "stream",
     "text": [
      "## The First 5 Rows ## \n",
      "\n"
     ]
    },
    {
     "data": {
      "text/html": [
       "<div>\n",
       "<style scoped>\n",
       "    .dataframe tbody tr th:only-of-type {\n",
       "        vertical-align: middle;\n",
       "    }\n",
       "\n",
       "    .dataframe tbody tr th {\n",
       "        vertical-align: top;\n",
       "    }\n",
       "\n",
       "    .dataframe thead th {\n",
       "        text-align: right;\n",
       "    }\n",
       "</style>\n",
       "<table border=\"1\" class=\"dataframe\">\n",
       "  <thead>\n",
       "    <tr style=\"text-align: right;\">\n",
       "      <th></th>\n",
       "      <th>Index</th>\n",
       "      <th>Name</th>\n",
       "      <th>Area</th>\n",
       "      <th>Review_Date</th>\n",
       "      <th>Rating_attribute</th>\n",
       "      <th>Rating(Out of 10)</th>\n",
       "      <th>Review_Text</th>\n",
       "    </tr>\n",
       "  </thead>\n",
       "  <tbody>\n",
       "    <tr>\n",
       "      <th>0</th>\n",
       "      <td>0</td>\n",
       "      <td>Hotel The Pearl</td>\n",
       "      <td>Paharganj, New Delhi</td>\n",
       "      <td>Jul-23</td>\n",
       "      <td>Best budget friendly hotel</td>\n",
       "      <td>9.0</td>\n",
       "      <td>Hotel the pearl is perfect place to stay in De...</td>\n",
       "    </tr>\n",
       "    <tr>\n",
       "      <th>1</th>\n",
       "      <td>1</td>\n",
       "      <td>Hotel The Pearl</td>\n",
       "      <td>Paharganj, New Delhi</td>\n",
       "      <td>Aug-23</td>\n",
       "      <td>Amazing place</td>\n",
       "      <td>9.0</td>\n",
       "      <td>Location of the hotel is perfect. The hotel is...</td>\n",
       "    </tr>\n",
       "    <tr>\n",
       "      <th>2</th>\n",
       "      <td>2</td>\n",
       "      <td>Hotel The Pearl</td>\n",
       "      <td>Paharganj, New Delhi</td>\n",
       "      <td>Aug-23</td>\n",
       "      <td>Overall good stay. Economic.</td>\n",
       "      <td>9.0</td>\n",
       "      <td>Location, Indian food.</td>\n",
       "    </tr>\n",
       "    <tr>\n",
       "      <th>3</th>\n",
       "      <td>3</td>\n",
       "      <td>Hotel The Pearl</td>\n",
       "      <td>Paharganj, New Delhi</td>\n",
       "      <td>Aug-23</td>\n",
       "      <td>Lovely</td>\n",
       "      <td>9.0</td>\n",
       "      <td>The location and the hotel itself is great. Ne...</td>\n",
       "    </tr>\n",
       "    <tr>\n",
       "      <th>4</th>\n",
       "      <td>4</td>\n",
       "      <td>Hotel The Pearl</td>\n",
       "      <td>Paharganj, New Delhi</td>\n",
       "      <td>Aug-23</td>\n",
       "      <td>Great hotel Great staff and great staying</td>\n",
       "      <td>9.0</td>\n",
       "      <td>Friendly and smiling staffs.. The reception st...</td>\n",
       "    </tr>\n",
       "  </tbody>\n",
       "</table>\n",
       "</div>"
      ],
      "text/plain": [
       "   Index             Name                  Area Review_Date  \\\n",
       "0      0  Hotel The Pearl  Paharganj, New Delhi      Jul-23   \n",
       "1      1  Hotel The Pearl  Paharganj, New Delhi      Aug-23   \n",
       "2      2  Hotel The Pearl  Paharganj, New Delhi      Aug-23   \n",
       "3      3  Hotel The Pearl  Paharganj, New Delhi      Aug-23   \n",
       "4      4  Hotel The Pearl  Paharganj, New Delhi      Aug-23   \n",
       "\n",
       "                            Rating_attribute  Rating(Out of 10)  \\\n",
       "0                 Best budget friendly hotel                9.0   \n",
       "1                              Amazing place                9.0   \n",
       "2               Overall good stay. Economic.                9.0   \n",
       "3                                     Lovely                9.0   \n",
       "4  Great hotel Great staff and great staying                9.0   \n",
       "\n",
       "                                         Review_Text  \n",
       "0  Hotel the pearl is perfect place to stay in De...  \n",
       "1  Location of the hotel is perfect. The hotel is...  \n",
       "2                             Location, Indian food.  \n",
       "3  The location and the hotel itself is great. Ne...  \n",
       "4  Friendly and smiling staffs.. The reception st...  "
      ]
     },
     "execution_count": 2,
     "metadata": {},
     "output_type": "execute_result"
    }
   ],
   "source": [
    "## Load the dataset\n",
    "df = pd.read_csv(\"/Users/yixuanli/repos/Exploratory-Data-Analysis/Sentiment-Analysis/Hotel-Reviews-Analysis/hotel_reviews.csv\")\n",
    "print(\"## The First 5 Rows ##\", \"\\n\")\n",
    "df.head()"
   ]
  },
  {
   "cell_type": "code",
   "execution_count": 6,
   "metadata": {},
   "outputs": [
    {
     "name": "stdout",
     "output_type": "stream",
     "text": [
      "--------------------\u001b[31mRAW DATAFRAME INFO\u001b[0m--------------------\n",
      "Row_num of the dataset: 7001 | Col_num of the dataset: 7\n",
      "Size of the dataset: 49007\n",
      "Num of duplicates: 0\n",
      "## Dataframe Info ##\n",
      "<class 'pandas.core.frame.DataFrame'>\n",
      "RangeIndex: 7001 entries, 0 to 7000\n",
      "Data columns (total 7 columns):\n",
      " #   Column             Non-Null Count  Dtype  \n",
      "---  ------             --------------  -----  \n",
      " 0   Index              7001 non-null   int64  \n",
      " 1   Name               7001 non-null   object \n",
      " 2   Area               7001 non-null   object \n",
      " 3   Review_Date        7001 non-null   object \n",
      " 4   Rating_attribute   7001 non-null   object \n",
      " 5   Rating(Out of 10)  7001 non-null   float64\n",
      " 6   Review_Text        6996 non-null   object \n",
      "dtypes: float64(1), int64(1), object(5)\n",
      "memory usage: 383.0+ KB\n",
      "None\n",
      "## Null Data ##\n",
      "Index                0\n",
      "Name                 0\n",
      "Area                 0\n",
      "Review_Date          0\n",
      "Rating_attribute     0\n",
      "Rating(Out of 10)    0\n",
      "Review_Text          5\n",
      "dtype: int64\n",
      "## Number of Unique Values ##\n",
      "Index                7001\n",
      "Name                  570\n",
      "Area                   31\n",
      "Review_Date            36\n",
      "Rating_attribute     1875\n",
      "Rating(Out of 10)      12\n",
      "Review_Text          3903\n",
      "dtype: int64\n",
      "--------------------\u001b[34mDATA FEATURES\u001b[0m--------------------\n",
      "             Index                                         Name  \\\n",
      "count   7001.00000                                         7001   \n",
      "unique         NaN                                          570   \n",
      "top            NaN  OYO Townhouse 023 CR Park Near Lotus Temple   \n",
      "freq           NaN                                           40   \n",
      "mean    3500.00000                                          NaN   \n",
      "std     2021.15895                                          NaN   \n",
      "min        0.00000                                          NaN   \n",
      "25%     1750.00000                                          NaN   \n",
      "50%     3500.00000                                          NaN   \n",
      "75%     5250.00000                                          NaN   \n",
      "max     7000.00000                                          NaN   \n",
      "\n",
      "                          Area Review_Date Rating_attribute  \\\n",
      "count                     7001        7001             7001   \n",
      "unique                      31          36             1875   \n",
      "top     South Delhi, New Delhi      Aug-23      Exceptional   \n",
      "freq                      1394        1560              772   \n",
      "mean                       NaN         NaN              NaN   \n",
      "std                        NaN         NaN              NaN   \n",
      "min                        NaN         NaN              NaN   \n",
      "25%                        NaN         NaN              NaN   \n",
      "50%                        NaN         NaN              NaN   \n",
      "75%                        NaN         NaN              NaN   \n",
      "max                        NaN         NaN              NaN   \n",
      "\n",
      "        Rating(Out of 10)                             Review_Text  \n",
      "count         7001.000000                                    6996  \n",
      "unique                NaN                                    3903  \n",
      "top                   NaN   no comments available for this review  \n",
      "freq                  NaN                                     632  \n",
      "mean             7.030981                                     NaN  \n",
      "std              2.882846                                     NaN  \n",
      "min              1.000000                                     NaN  \n",
      "25%              6.000000                                     NaN  \n",
      "50%              8.000000                                     NaN  \n",
      "75%              9.000000                                     NaN  \n",
      "max             10.000000                                     NaN  \n",
      "## Ratings Info ##\n",
      "10.0    1436\n",
      "8.0     1360\n",
      "9.0     1188\n",
      "7.0      959\n",
      "1.0      866\n",
      "6.0      493\n",
      "5.0      320\n",
      "4.0      133\n",
      "3.0      124\n",
      "2.0      119\n",
      "2.5        2\n",
      "7.9        1\n",
      "Name: Rating(Out of 10), dtype: int64\n"
     ]
    }
   ],
   "source": [
    "%reload_ext autoreload\n",
    "%autoreload 2\n",
    "from data_management import data_report\n",
    "data_report(df, verbose=True)"
   ]
  },
  {
   "cell_type": "code",
   "execution_count": 38,
   "metadata": {},
   "outputs": [
    {
     "data": {
      "text/plain": [
       "(7001, 7)"
      ]
     },
     "execution_count": 38,
     "metadata": {},
     "output_type": "execute_result"
    }
   ],
   "source": [
    "df_n = df.drop_duplicates(inplace=False)\n",
    "df_n.shape"
   ]
  },
  {
   "cell_type": "code",
   "execution_count": 4,
   "metadata": {},
   "outputs": [
    {
     "name": "stdout",
     "output_type": "stream",
     "text": [
      "0\n"
     ]
    }
   ],
   "source": [
    "print(df.duplicated().sum())"
   ]
  }
 ],
 "metadata": {
  "kernelspec": {
   "display_name": "Python 3",
   "language": "python",
   "name": "python3"
  },
  "language_info": {
   "codemirror_mode": {
    "name": "ipython",
    "version": 3
   },
   "file_extension": ".py",
   "mimetype": "text/x-python",
   "name": "python",
   "nbconvert_exporter": "python",
   "pygments_lexer": "ipython3",
   "version": "3.9.12"
  },
  "orig_nbformat": 4
 },
 "nbformat": 4,
 "nbformat_minor": 2
}
